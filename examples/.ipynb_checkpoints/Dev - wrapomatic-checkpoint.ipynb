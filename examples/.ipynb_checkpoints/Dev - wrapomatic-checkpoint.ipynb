{
 "cells": [
  {
   "cell_type": "code",
   "execution_count": 9,
   "metadata": {},
   "outputs": [],
   "source": [
    "import sys\n",
    "sys.path.insert(0, \"/Users/vdha0001/repo/automata/\")\n",
    "\n",
    "import wrapomatic as wrp\n",
    "#import xio\n",
    "\n",
    "#import json\n",
    "#from pprint import pprint\n",
    "path0=\"/Users/vdha0001/repo/automata/examples/\"\n",
    "#import subprocess"
   ]
  },
  {
   "cell_type": "code",
   "execution_count": 10,
   "metadata": {},
   "outputs": [
    {
     "name": "stdout",
     "output_type": "stream",
     "text": [
      "analysis_type = 1\n",
      "analysis_subtype = 7\n",
      "genetic_code = 1\n",
      "data_file = /Users/vdha0001/repo/automata/examples/flub_NA_11.fas\n",
      "use_tree = y\n",
      "branch_test_set = 2\n",
      "relax_analysis_type = 2\n",
      "output_suffix = _results.out\n"
     ]
    }
   ],
   "source": [
    "hx = wrp.HyphyRelax()\n",
    "\n",
    "hx.data_file=path0+\"flub_NA_11.fas\"\n",
    "hx.show_me()"
   ]
  },
  {
   "cell_type": "code",
   "execution_count": 11,
   "metadata": {
    "scrolled": true
   },
   "outputs": [
    {
     "name": "stdout",
     "output_type": "stream",
     "text": [
      "Running HYPHYMP:RELAX\n",
      "Genetic code = universal code\n",
      "Input file = /Users/vdha0001/repo/automata/examples/flub_NA_11.fas\n",
      "Branches used as _test_ set: Branches labelled 'test'\n",
      "RELAX analysis type: Run only the RELAX test (2 models)\n",
      "STDOUT output file: /Users/vdha0001/repo/automata/examples/flub_NA_11.fas_results.out\n",
      "Done in 0.03s\n"
     ]
    }
   ],
   "source": [
    "hx.run()"
   ]
  },
  {
   "cell_type": "code",
   "execution_count": 12,
   "metadata": {},
   "outputs": [
    {
     "name": "stdout",
     "output_type": "stream",
     "text": [
      "GLOBAL dNdS VALUES\n",
      "--------------------\n",
      "AIC-c = 1081.153806333767\n",
      "LogL = -540.5769031668833\n",
      "dNdS ratio for *Reference* = 0.2095108006025978\n",
      "dNdS ratio for *Test* = 0.8783516755412378\n",
      "\n",
      "M0: k = 1\n",
      "--------------------\n",
      "REFERENCE & TEST BRANCHES\n",
      "AIC-c = 1163.20356\n",
      "LogL = -542.17541\n",
      "Class 0: omega = 0.29611, proportion = 68.53079%\n",
      "Class 1: omega = 0.55061, proportion = 31.46921%\n",
      "Class 2: omega = 1.00040, proportion = 0.00000%\n",
      "\n",
      "M1: k != 1\n",
      "--------------------\n",
      "REFERENCE & TEST BRANCHES\n",
      "AIC-c = 1162.70804\n",
      "LogL = -540.85113\n",
      "Class 0: omega = 0.00000, proportion = 35.18770%\n",
      "Class 1: omega = 0.00000, proportion = 46.38463%\n",
      "Class 2: omega = 1.27981, proportion = 18.42766%\n",
      "\n",
      "Class 0: omega = 0.00000, proportion = 35.18770%\n",
      "Class 1: omega = 0.00000, proportion = 46.38463%\n",
      "Class 2: omega = 4.92876, proportion = 18.42766%\n",
      "\n",
      "LRT RESULTS\n",
      "--------------------\n",
      "LRT = 2.64856\n",
      "p-value = 0.10364\n",
      "k = 6.46549\n"
     ]
    }
   ],
   "source": [
    "wrp.parse_relax_json(path0+\"flub_NA_11.fas.RELAX.json\")"
   ]
  },
  {
   "cell_type": "code",
   "execution_count": null,
   "metadata": {
    "collapsed": true
   },
   "outputs": [],
   "source": []
  }
 ],
 "metadata": {
  "kernelspec": {
   "display_name": "Python 3",
   "language": "python",
   "name": "python3"
  },
  "language_info": {
   "codemirror_mode": {
    "name": "ipython",
    "version": 3
   },
   "file_extension": ".py",
   "mimetype": "text/x-python",
   "name": "python",
   "nbconvert_exporter": "python",
   "pygments_lexer": "ipython3",
   "version": "3.6.4"
  }
 },
 "nbformat": 4,
 "nbformat_minor": 2
}
